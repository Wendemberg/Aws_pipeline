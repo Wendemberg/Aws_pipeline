{
  "cells": [
    {
      "cell_type": "code",
      "execution_count": 1,
      "metadata": {
        "id": "0foCUMv7aM8m"
      },
      "outputs": [
        {
          "ename": "ModuleNotFoundError",
          "evalue": "No module named 'requests'",
          "output_type": "error",
          "traceback": [
            "\u001b[31m---------------------------------------------------------------------------\u001b[39m",
            "\u001b[31mModuleNotFoundError\u001b[39m                       Traceback (most recent call last)",
            "\u001b[36mCell\u001b[39m\u001b[36m \u001b[39m\u001b[32mIn[1]\u001b[39m\u001b[32m, line 2\u001b[39m\n\u001b[32m      1\u001b[39m \u001b[38;5;28;01mimport\u001b[39;00m\u001b[38;5;250m \u001b[39m\u001b[34;01mjson\u001b[39;00m\n\u001b[32m----> \u001b[39m\u001b[32m2\u001b[39m \u001b[38;5;28;01mimport\u001b[39;00m\u001b[38;5;250m \u001b[39m\u001b[34;01mrequests\u001b[39;00m\n",
            "\u001b[31mModuleNotFoundError\u001b[39m: No module named 'requests'"
          ]
        }
      ],
      "source": [
        "import json\n",
        "import requests"
      ]
    },
    {
      "cell_type": "code",
      "execution_count": null,
      "metadata": {
        "id": "wOf3qn5HaOxT"
      },
      "outputs": [],
      "source": [
        "latitude = -29.6846\n",
        "longitude =  -51.1419\n",
        "TOMORROW_API_KEY = '4kvtzIKz0VYBlpGt7E1SLwgY6w70NDUR'\n",
        "url = f\"https://api.tomorrow.io/v4/weather/realtime?location={latitude},{longitude}&apikey={TOMORROW_API_KEY}\""
      ]
    },
    {
      "cell_type": "code",
      "execution_count": 3,
      "metadata": {
        "colab": {
          "base_uri": "https://localhost:8080/"
        },
        "id": "f8UApuMtjuMM",
        "outputId": "29aada44-4225-4598-e738-ddde83e93fc4"
      },
      "outputs": [
        {
          "name": "stdout",
          "output_type": "stream",
          "text": [
            "{\n",
            "    \"data\": {\n",
            "        \"time\": \"2024-07-27T23:01:00Z\",\n",
            "        \"values\": {\n",
            "            \"cloudBase\": 0.39,\n",
            "            \"cloudCeiling\": 0.39,\n",
            "            \"cloudCover\": 95,\n",
            "            \"dewPoint\": 17.38,\n",
            "            \"freezingRainIntensity\": 0,\n",
            "            \"humidity\": 83,\n",
            "            \"precipitationProbability\": 0,\n",
            "            \"pressureSurfaceLevel\": 1012.25,\n",
            "            \"rainIntensity\": 0,\n",
            "            \"sleetIntensity\": 0,\n",
            "            \"snowIntensity\": 0,\n",
            "            \"temperature\": 20.38,\n",
            "            \"temperatureApparent\": 20.38,\n",
            "            \"uvHealthConcern\": 0,\n",
            "            \"uvIndex\": 0,\n",
            "            \"visibility\": 11,\n",
            "            \"weatherCode\": 1001,\n",
            "            \"windDirection\": 139.5,\n",
            "            \"windGust\": 1.81,\n",
            "            \"windSpeed\": 1.19\n",
            "        }\n",
            "    },\n",
            "    \"location\": {\n",
            "        \"lat\": -29.6846,\n",
            "        \"lon\": -51.1419\n",
            "    }\n",
            "}\n"
          ]
        }
      ],
      "source": [
        "headers = {\"accept\": \"application/json\"}\n",
        "response = requests.get(url, headers=headers)\n",
        "\n",
        "if response.status_code == 200:\n",
        "    data = response.json()\n",
        "    print(json.dumps(data, indent=4))\n",
        "else:\n",
        "    print(f'Erro na requisição: {response.status_code}, mensagem: {response.json().get(\"message\", \"\")}')\n"
      ]
    },
    {
      "cell_type": "code",
      "execution_count": null,
      "metadata": {
        "id": "gaF9o3AMlwGC"
      },
      "outputs": [],
      "source": []
    }
  ],
  "metadata": {
    "colab": {
      "provenance": []
    },
    "kernelspec": {
      "display_name": "Python 3",
      "name": "python3"
    },
    "language_info": {
      "codemirror_mode": {
        "name": "ipython",
        "version": 3
      },
      "file_extension": ".py",
      "mimetype": "text/x-python",
      "name": "python",
      "nbconvert_exporter": "python",
      "pygments_lexer": "ipython3",
      "version": "3.13.5"
    }
  },
  "nbformat": 4,
  "nbformat_minor": 0
}
